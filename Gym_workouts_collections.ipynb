{
 "cells": [
  {
   "cell_type": "code",
   "execution_count": 2,
   "metadata": {},
   "outputs": [],
   "source": [
    "# import cv2\n",
    "# import mediapipe as mp\n",
    "# import numpy as np\n",
    "# from sklearn.ensemble import RandomForestClassifier\n",
    "# from sklearn.preprocessing import StandardScaler\n",
    "# import joblib\n",
    "# import statistics\n",
    "# import pandas as pd\n",
    "\n",
    "from gym_functions import*\n",
    "# from squat_workout import*\n",
    "# from biceps_workout import*\n",
    "# from pushups_workout import*\n",
    "from Feedback import*\n",
    "\n",
    "import warnings\n",
    "warnings.filterwarnings('ignore')"
   ]
  },
  {
   "cell_type": "code",
   "execution_count": 3,
   "metadata": {},
   "outputs": [],
   "source": [
    "l,counters,workout,errors = release_assistant(r\"D:\\DEPI Material\\DEPI_Project\\MY_Data\\Squats\\left_norm_squat_1.mp4\")"
   ]
  },
  {
   "cell_type": "code",
   "execution_count": 3,
   "metadata": {},
   "outputs": [
    {
     "data": {
      "text/plain": [
       "{'depth_issue': 28, 'back_posture_issue': 68, 'knee_alignment_issue': 78}"
      ]
     },
     "execution_count": 3,
     "metadata": {},
     "output_type": "execute_result"
    }
   ],
   "source": [
    "errors"
   ]
  },
  {
   "cell_type": "code",
   "execution_count": 3,
   "metadata": {},
   "outputs": [
    {
     "name": "stdout",
     "output_type": "stream",
     "text": [
      "\n",
      "*** Workout Summary ***\n",
      " Total squats performed: 2\n",
      " Correct squats: 2\n",
      " Incorrect squats: 0\n",
      " Overall correctness: 100.00%\n",
      " \n",
      "Excellent work! All repetitions were performed correctly with perfect form.\n",
      " \n",
      "**Areas to improve**\n",
      " - Squat depth needs improvement.\n",
      " - Back posture needs to be straighter.\n",
      " - Your knees are moving too far beyond your toes during the exercise.\n",
      "\n",
      " **Suggestions for improvement**\n",
      " - Aim to bend your knees to about 90 degrees for proper squat depth.\n",
      " - Keep your back straight by engaging your core muscles throughout the movement.\n",
      " - Focus on shifting your hips back and keeping your knees in line with your toes to reduce strain.\n",
      " \n",
      "Keep up the great work, and continue focusing on maintaining this high level of performance!\n"
     ]
    }
   ],
   "source": [
    "# Assuming you have workout_class, errors, and counters defined\n",
    "feedback = provide_feedback(workout, errors, counters)\n",
    "print(\" \".join(feedback))"
   ]
  },
  {
   "cell_type": "code",
   "execution_count": 4,
   "metadata": {},
   "outputs": [
    {
     "data": {
      "text/plain": [
       "'0.10.14'"
      ]
     },
     "execution_count": 4,
     "metadata": {},
     "output_type": "execute_result"
    }
   ],
   "source": [
    "import sklearn\n",
    "import mediapipe as mp\n",
    "sklearn.__version__\n",
    "mp.__version__"
   ]
  },
  {
   "cell_type": "code",
   "execution_count": null,
   "metadata": {},
   "outputs": [],
   "source": [
    "\n",
    "# def main(video_path):\n",
    "#     # Process the video and get the workout data\n",
    "#     counters, workout_class, errors = release_assistant(video_path)\n",
    "\n",
    "#     # Initialize video capture to replay the video for feedback\n",
    "#     cap = cv2.VideoCapture(video_path)\n",
    "\n",
    "#     while cap.isOpened():\n",
    "#         ret, frame = cap.read()\n",
    "#         if not ret:\n",
    "#             break  # Exit the loop if the video ends\n",
    "\n",
    "#         # Generate feedback based on the captured data\n",
    "#         feedback = provide_feedback(workout_class, errors, counters)\n",
    "\n",
    "#         # Display feedback on the current frame\n",
    "#         frame = display_feedback_on_frame(frame, feedback)\n",
    "\n",
    "#         # Show the processed frame with feedback\n",
    "#         cv2.imshow('Workout Feedback', frame)\n",
    "\n",
    "#         # Break the loop on 'q' key press\n",
    "#         if cv2.waitKey(1) & 0xFF == ord('q'):\n",
    "#             break\n",
    "\n",
    "#     cap.release()\n",
    "#     cv2.destroyAllWindows()\n",
    "\n",
    "# if __name__ == \"__main__\":\n",
    "#     video_path = r'D:\\DEPI Material\\DEPI_Project\\Push-ups\\Copy of push up 5.mp4'\n",
    "#     main(video_path)\n"
   ]
  },
  {
   "cell_type": "code",
   "execution_count": 1,
   "metadata": {},
   "outputs": [
    {
     "name": "stdout",
     "output_type": "stream",
     "text": [
      "^C\n"
     ]
    }
   ],
   "source": [
    "# Release the streamlit page\n",
    "!streamlit run st_app.py"
   ]
  },
  {
   "metadata": {
    "ExecuteTime": {
     "end_time": "2024-10-04T00:07:15.529291Z",
     "start_time": "2024-10-04T00:07:15.429961Z"
    }
   },
   "cell_type": "code",
   "source": [
    "import cv2\n",
    "\n",
    "print(\"OpenCV version:\", cv2.__version__)"
   ],
   "outputs": [
    {
     "name": "stdout",
     "output_type": "stream",
     "text": [
      "OpenCV version: 4.10.0\n"
     ]
    }
   ],
   "execution_count": 3
  },
  {
   "metadata": {},
   "cell_type": "code",
   "outputs": [],
   "execution_count": null,
   "source": ""
  }
 ],
 "metadata": {
  "kernelspec": {
   "display_name": "base",
   "language": "python",
   "name": "python3"
  },
  "language_info": {
   "codemirror_mode": {
    "name": "ipython",
    "version": 3
   },
   "file_extension": ".py",
   "mimetype": "text/x-python",
   "name": "python",
   "nbconvert_exporter": "python",
   "pygments_lexer": "ipython3",
   "version": "3.9.13"
  }
 },
 "nbformat": 4,
 "nbformat_minor": 2
}
